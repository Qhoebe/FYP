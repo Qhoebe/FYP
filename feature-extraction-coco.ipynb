{
 "cells": [
  {
   "cell_type": "markdown",
   "metadata": {},
   "source": [
    "# Import Libraries"
   ]
  },
  {
   "cell_type": "code",
   "execution_count": 1,
   "metadata": {},
   "outputs": [],
   "source": [
    "from pycocotools.coco import COCO\n",
    "import torch\n",
    "import torch.nn as nn\n",
    "import torchvision.models as models\n",
    "import torchvision.transforms as transforms\n",
    "from PIL import Image\n",
    "import os\n",
    "import json\n",
    "import tqdm  # Progress bar\n"
   ]
  },
  {
   "cell_type": "code",
   "execution_count": 2,
   "metadata": {},
   "outputs": [
    {
     "data": {
      "text/plain": [
       "True"
      ]
     },
     "execution_count": 2,
     "metadata": {},
     "output_type": "execute_result"
    }
   ],
   "source": [
    "torch.cuda.is_available()"
   ]
  },
  {
   "cell_type": "code",
   "execution_count": 3,
   "metadata": {},
   "outputs": [
    {
     "name": "stdout",
     "output_type": "stream",
     "text": [
      "cuda\n"
     ]
    }
   ],
   "source": [
    "device = torch.device(\"cuda\" if torch.cuda.is_available() else \"cpu\")\n",
    "print(device)"
   ]
  },
  {
   "cell_type": "markdown",
   "metadata": {},
   "source": [
    "# Dataset Preparation"
   ]
  },
  {
   "cell_type": "code",
   "execution_count": 4,
   "metadata": {},
   "outputs": [],
   "source": [
    "# Function to initialize the COCO API\n",
    "def initialize_coco(data_dir,data_type):\n",
    "    ann_file = os.path.join(data_dir, 'annotations','captions_{}.json'.format(data_type))  # COCO captions file\n",
    "    coco = COCO(ann_file)\n",
    "    return coco\n"
   ]
  },
  {
   "cell_type": "code",
   "execution_count": 5,
   "metadata": {},
   "outputs": [],
   "source": [
    "# Define the image preprocessing transformations\n",
    "transform = transforms.Compose([\n",
    "    transforms.Resize((224, 224)),  # Resize image to match ResNet input size\n",
    "    transforms.ToTensor(),\n",
    "    transforms.Normalize(mean=[0.485, 0.456, 0.406], std=[0.229, 0.224, 0.225]),  # Normalize with ImageNet statistics\n",
    "])\n",
    "\n",
    "# Function to load and preprocess the image\n",
    "def load_image(image_path):\n",
    "    image = Image.open(image_path).convert('RGB')\n",
    "    image = transform(image).unsqueeze(0).to(device)  # Add batch dimension\n",
    "    return image"
   ]
  },
  {
   "cell_type": "markdown",
   "metadata": {},
   "source": [
    "# Feature Extraction (CNN)"
   ]
  },
  {
   "cell_type": "code",
   "execution_count": 6,
   "metadata": {},
   "outputs": [],
   "source": [
    "# Define the CNN model for feature extraction (e.g., ResNet-50)\n",
    "class CNNFeatureExtractor(nn.Module):\n",
    "    def __init__(self, weights='ResNet50_Weights.DEFAULT'):\n",
    "        super(CNNFeatureExtractor, self).__init__()\n",
    "        # Load a pre-trained ResNet-50 model\n",
    "        resnet = models.resnet50(weights=weights)\n",
    "        # Remove the final fully connected layer\n",
    "        self.resnet = nn.Sequential(*list(resnet.children())[:-1])  # Keep up to the global avg pool layer\n",
    "        self.resnet = self.resnet.to(device)  # Move model to GPU if available\n",
    "\n",
    "    def forward(self, images):\n",
    "        # Extract features\n",
    "        images = images.to(device)\n",
    "        features = self.resnet(images)  # Output shape: (batch_size, 2048, 1, 1)\n",
    "        features = features.view(features.size(0), -1)  # Reshape to (batch_size, 2048)\n",
    "        return features\n",
    "\n"
   ]
  },
  {
   "cell_type": "code",
   "execution_count": 7,
   "metadata": {},
   "outputs": [],
   "source": [
    "# Function to extract features\n",
    "def extract_coco_features(coco,data_dir,data_type):\n",
    "    # Initialize the feature extraction model\n",
    "    model = CNNFeatureExtractor()\n",
    "    model.eval()\n",
    "\n",
    "    # Dictionary to store image features and URLs\n",
    "    all_features = {}\n",
    "\n",
    "    # Get all image IDs in the dataset\n",
    "    img_ids = coco.getImgIds()\n",
    "\n",
    "    # Loop over each image ID\n",
    "    for img_id in tqdm.tqdm(img_ids, desc=\"Extracting features\"):\n",
    "        # Get image metadata\n",
    "        img_info = coco.loadImgs(img_id)[0]\n",
    "        \n",
    "        # Construct the full image URL\n",
    "        image_url = f\"http://images.cocodataset.org/{data_type}/{img_info['file_name']}\"\n",
    "        image_path = os.path.join(data_dir,data_type,img_info['file_name'])\n",
    "        \n",
    "        # Load and preprocess the image\n",
    "        image = Image.open(image_path).convert('RGB')\n",
    "        image = transform(image).unsqueeze(0).to(device)  # Add batch dimension\n",
    "\n",
    "        # Extract features\n",
    "        with torch.no_grad():\n",
    "            features = model(image)\n",
    "\n",
    "        # Store features and image URL\n",
    "        all_features[image_url] = features.squeeze().tolist()\n",
    "\n",
    "    return all_features\n"
   ]
  },
  {
   "cell_type": "markdown",
   "metadata": {},
   "source": [
    "# Save Extracted Features"
   ]
  },
  {
   "cell_type": "code",
   "execution_count": 8,
   "metadata": {},
   "outputs": [],
   "source": [
    "# function to save and store features as a JSON file\n",
    "def save_coco_features(output_json,data_dir,features):\n",
    "    # Save all features to a JSON file\n",
    "    output_location = os.path.join(data_dir,'extracted_features',output_json)\n",
    "    with open(output_location, 'w') as f:\n",
    "        json.dump(features, f)\n",
    "    \n",
    "    print(f\"Features saved to {output_location}\")"
   ]
  },
  {
   "cell_type": "markdown",
   "metadata": {},
   "source": [
    "# Execute Feature Extractions"
   ]
  },
  {
   "cell_type": "markdown",
   "metadata": {},
   "source": [
    "### Train Set"
   ]
  },
  {
   "cell_type": "code",
   "execution_count": 9,
   "metadata": {},
   "outputs": [
    {
     "name": "stdout",
     "output_type": "stream",
     "text": [
      "loading annotations into memory...\n",
      "Done (t=1.35s)\n",
      "creating index...\n",
      "index created!\n"
     ]
    },
    {
     "name": "stderr",
     "output_type": "stream",
     "text": [
      "Extracting features: 100%|██████████| 118287/118287 [1:21:12<00:00, 24.28it/s]\n"
     ]
    },
    {
     "name": "stdout",
     "output_type": "stream",
     "text": [
      "Features saved to data\\COCO\\extracted_features\\train_image_features.json\n"
     ]
    }
   ],
   "source": [
    "data_dir = os.path.join('data','COCO')\n",
    "data_type = 'train2017'\n",
    "output_json= 'train_image_features.json'\n",
    "\n",
    "coco = initialize_coco(data_dir,data_type)\n",
    "image_features = extract_coco_features(coco,data_dir,data_type)\n",
    "save_coco_features(output_json,data_dir,image_features)\n"
   ]
  },
  {
   "cell_type": "markdown",
   "metadata": {},
   "source": [
    "### Validation Set"
   ]
  },
  {
   "cell_type": "code",
   "execution_count": 10,
   "metadata": {},
   "outputs": [
    {
     "name": "stdout",
     "output_type": "stream",
     "text": [
      "loading annotations into memory...\n",
      "Done (t=0.14s)\n",
      "creating index...\n",
      "index created!\n"
     ]
    },
    {
     "name": "stderr",
     "output_type": "stream",
     "text": [
      "Extracting features: 100%|██████████| 5000/5000 [02:50<00:00, 29.28it/s]\n"
     ]
    },
    {
     "name": "stdout",
     "output_type": "stream",
     "text": [
      "Features saved to data\\COCO\\extracted_features\\val_image_features.json\n"
     ]
    }
   ],
   "source": [
    "data_dir = os.path.join('data','COCO')\n",
    "data_type = 'val2017'\n",
    "output_json= 'val_image_features.json'\n",
    "\n",
    "coco = initialize_coco(data_dir,data_type)\n",
    "image_features = extract_coco_features(coco,data_dir,data_type)\n",
    "save_coco_features(output_json,data_dir,image_features)"
   ]
  }
 ],
 "metadata": {
  "kernelspec": {
   "display_name": "fypEnv",
   "language": "python",
   "name": "python3"
  },
  "language_info": {
   "codemirror_mode": {
    "name": "ipython",
    "version": 3
   },
   "file_extension": ".py",
   "mimetype": "text/x-python",
   "name": "python",
   "nbconvert_exporter": "python",
   "pygments_lexer": "ipython3",
   "version": "3.8.20"
  }
 },
 "nbformat": 4,
 "nbformat_minor": 2
}
